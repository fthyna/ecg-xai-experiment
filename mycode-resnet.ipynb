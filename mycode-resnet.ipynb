{
 "cells": [
  {
   "cell_type": "code",
   "execution_count": 1,
   "id": "aea20409",
   "metadata": {},
   "outputs": [],
   "source": [
    "%reload_ext autoreload\n",
    "%autoreload 1\n",
    "%aimport experiment\n",
    "%aimport utils\n",
    "%aimport models.xai_models\n",
    "%aimport models.resnet1d_chen\n",
    "%aimport models.resnet1d\n",
    "%aimport helper\n",
    "%aimport dataloader\n",
    "%aimport datapreprocessor\n",
    "%aimport ecg_processing\n",
    "\n",
    "from dataloader import *\n",
    "import pandas as pd\n",
    "import numpy as np\n",
    "from experiment import Experiment\n",
    "import utils\n",
    "import torch\n",
    "import torch.nn as nn\n",
    "import torch.nn.functional as F\n",
    "from torch.utils.data import TensorDataset, DataLoader\n",
    "from torchsummary import summary\n",
    "import pickle\n",
    "import ecg_processing\n",
    "from models import resnet1d_chen\n",
    "from models.xai_models import *\n",
    "import helper\n",
    "from tqdm import tqdm\n",
    "import csv\n",
    "import matplotlib.pyplot as plt\n",
    "import os"
   ]
  },
  {
   "cell_type": "code",
   "execution_count": 2,
   "id": "9fa806e9",
   "metadata": {},
   "outputs": [],
   "source": [
    "device = torch.device('cuda' if torch.cuda.is_available() else 'cpu')"
   ]
  },
  {
   "cell_type": "code",
   "execution_count": 3,
   "id": "47a51467",
   "metadata": {},
   "outputs": [],
   "source": [
    "# configure experiment\n",
    "experiment_id = '20250526_01_resnet'\n",
    "output_folder = '../myoutput/'\n",
    "task = 'mi_detection'\n",
    "preprocessor_code = 'prep___mi_detection'\n",
    "num_classes = 2\n",
    "sampling_freq = 500\n",
    "signal_length = 4096\n",
    "batch_size = 64\n",
    "num_epochs = 30"
   ]
  },
  {
   "cell_type": "code",
   "execution_count": 47,
   "id": "15c13698",
   "metadata": {},
   "outputs": [
    {
     "name": "stdout",
     "output_type": "stream",
     "text": [
      "Initializing fitting dataset\n"
     ]
    },
    {
     "name": "stderr",
     "output_type": "stream",
     "text": [
      "Computing normalization parameters: 100%|██████████| 137/137 [00:25<00:00,  5.31it/s]\n"
     ]
    }
   ],
   "source": [
    "# create and initialize preprocessor\n",
    "preprocessor = PTBXL_Preprocessor(task=task)\n",
    "preprocessor.fit()"
   ]
  },
  {
   "cell_type": "code",
   "execution_count": 48,
   "id": "33813ebb",
   "metadata": {},
   "outputs": [
    {
     "name": "stdout",
     "output_type": "stream",
     "text": [
      "[-0.001958 -0.001514  0.000449  0.00172  -0.001152 -0.00051   0.000179 -0.000944 -0.001552 -0.001386 -0.001366\n",
      " -0.001293]\n",
      "[0.198611 0.165694 0.181827 0.144826 0.158658 0.149884 0.234973 0.337738 0.335335 0.299234 0.29428  0.242374]\n",
      "['MI' 'OTHER']\n",
      "2\n",
      "17441\n"
     ]
    }
   ],
   "source": [
    "# some preprocessor tests\n",
    "print(preprocessor.ch_means)\n",
    "print(preprocessor.ch_stds)\n",
    "print(preprocessor.classes)\n",
    "print(preprocessor.n_classes)\n",
    "print(preprocessor.n_records)"
   ]
  },
  {
   "cell_type": "code",
   "execution_count": 49,
   "id": "50e6e877",
   "metadata": {},
   "outputs": [],
   "source": [
    "preprocessor.save(preprocessor_code)"
   ]
  },
  {
   "cell_type": "code",
   "execution_count": 50,
   "id": "4527eade",
   "metadata": {},
   "outputs": [
    {
     "name": "stdout",
     "output_type": "stream",
     "text": [
      "Initializing fitting dataset\n",
      "Initializing fitting dataset\n",
      "Initializing fitting dataset\n"
     ]
    }
   ],
   "source": [
    "# create dataloaders\n",
    "loader_train = create_PTBXL_dataloader(sampling_freq, preprocessor_code, task, 'train', batch_size=batch_size, resize_len=signal_length)\n",
    "loader_val = create_PTBXL_dataloader(sampling_freq, preprocessor_code, task, 'val', batch_size=batch_size, resize_len=signal_length)\n",
    "loader_test = create_PTBXL_dataloader(sampling_freq, preprocessor_code, task, 'test', batch_size=batch_size, resize_len=signal_length)"
   ]
  },
  {
   "cell_type": "code",
   "execution_count": 72,
   "id": "7b99e5f2",
   "metadata": {},
   "outputs": [
    {
     "name": "stdout",
     "output_type": "stream",
     "text": [
      "creating stem\n",
      "creating backbone\n",
      "creating head\n",
      "----------------------------------------------------------------\n",
      "        Layer (type)               Output Shape         Param #\n",
      "================================================================\n",
      "            Conv1d-1             [-1, 64, 4096]          11,520\n",
      "       BatchNorm1d-2             [-1, 64, 4096]             128\n",
      "              ReLU-3             [-1, 64, 4096]               0\n",
      "           Dropout-4             [-1, 64, 4096]               0\n",
      "            Conv1d-5             [-1, 64, 1024]          61,440\n",
      "       BatchNorm1d-6             [-1, 64, 1024]             128\n",
      "              ReLU-7             [-1, 64, 1024]               0\n",
      "           Dropout-8             [-1, 64, 1024]               0\n",
      "            Conv1d-9             [-1, 64, 1024]          61,440\n",
      "      BatchNorm1d-10             [-1, 64, 1024]             128\n",
      "        MaxPool1d-11             [-1, 64, 1024]               0\n",
      "           Conv1d-12             [-1, 64, 1024]           4,096\n",
      "             ReLU-13             [-1, 64, 1024]               0\n",
      "          Dropout-14             [-1, 64, 1024]               0\n",
      "     BasicBlock1d-15             [-1, 64, 1024]               0\n",
      "           Conv1d-16             [-1, 128, 256]         122,880\n",
      "      BatchNorm1d-17             [-1, 128, 256]             256\n",
      "             ReLU-18             [-1, 128, 256]               0\n",
      "          Dropout-19             [-1, 128, 256]               0\n",
      "           Conv1d-20             [-1, 128, 256]         245,760\n",
      "      BatchNorm1d-21             [-1, 128, 256]             256\n",
      "        MaxPool1d-22              [-1, 64, 256]               0\n",
      "           Conv1d-23             [-1, 128, 256]           8,192\n",
      "             ReLU-24             [-1, 128, 256]               0\n",
      "          Dropout-25             [-1, 128, 256]               0\n",
      "     BasicBlock1d-26             [-1, 128, 256]               0\n",
      "           Conv1d-27              [-1, 192, 64]         368,640\n",
      "      BatchNorm1d-28              [-1, 192, 64]             384\n",
      "             ReLU-29              [-1, 192, 64]               0\n",
      "          Dropout-30              [-1, 192, 64]               0\n",
      "           Conv1d-31              [-1, 192, 64]         552,960\n",
      "      BatchNorm1d-32              [-1, 192, 64]             384\n",
      "        MaxPool1d-33              [-1, 128, 64]               0\n",
      "           Conv1d-34              [-1, 192, 64]          24,576\n",
      "             ReLU-35              [-1, 192, 64]               0\n",
      "          Dropout-36              [-1, 192, 64]               0\n",
      "     BasicBlock1d-37              [-1, 192, 64]               0\n",
      "           Conv1d-38              [-1, 256, 16]         737,280\n",
      "      BatchNorm1d-39              [-1, 256, 16]             512\n",
      "             ReLU-40              [-1, 256, 16]               0\n",
      "          Dropout-41              [-1, 256, 16]               0\n",
      "           Conv1d-42              [-1, 256, 16]         983,040\n",
      "      BatchNorm1d-43              [-1, 256, 16]             512\n",
      "        MaxPool1d-44              [-1, 192, 16]               0\n",
      "           Conv1d-45              [-1, 256, 16]          49,152\n",
      "             ReLU-46              [-1, 256, 16]               0\n",
      "          Dropout-47              [-1, 256, 16]               0\n",
      "     BasicBlock1d-48              [-1, 256, 16]               0\n",
      "AdaptiveAvgPool1d-49               [-1, 256, 1]               0\n",
      "          Flatten-50                  [-1, 256]               0\n",
      "           Linear-51                    [-1, 1]             257\n",
      "================================================================\n",
      "Total params: 3,233,921\n",
      "Trainable params: 3,233,921\n",
      "Non-trainable params: 0\n",
      "----------------------------------------------------------------\n",
      "Input size (MB): 0.19\n",
      "Forward/backward pass size (MB): 17.46\n",
      "Params size (MB): 12.34\n",
      "Estimated Total Size (MB): 29.99\n",
      "----------------------------------------------------------------\n"
     ]
    }
   ],
   "source": [
    "model = resnet1d_chen.ResNet1d_chen(num_classes=1)\n",
    "summary(model, input_size=(12,4096), device='cpu')"
   ]
  },
  {
   "cell_type": "code",
   "execution_count": 73,
   "id": "24d8587a",
   "metadata": {},
   "outputs": [],
   "source": [
    "# configure training hyperparameters\n",
    "criterion = nn.BCEWithLogitsLoss()\n",
    "optimizer = torch.optim.Adam(model.parameters(), lr=1e-4) # learning rate was reduced by a factor of ten"
   ]
  },
  {
   "cell_type": "code",
   "execution_count": 74,
   "id": "0db6fc2f",
   "metadata": {},
   "outputs": [
    {
     "name": "stdout",
     "output_type": "stream",
     "text": [
      "cuda\n"
     ]
    }
   ],
   "source": [
    "# training prepare\n",
    "print(device)\n",
    "model = model.to(device)"
   ]
  },
  {
   "cell_type": "code",
   "execution_count": 75,
   "id": "d4952a5c",
   "metadata": {},
   "outputs": [
    {
     "name": "stderr",
     "output_type": "stream",
     "text": [
      "1/30 [Train]: 100%|██████████| 273/273 [01:01<00:00,  4.42it/s]\n",
      "1/30 [Val]  : 100%|██████████| 35/35 [00:03<00:00, 10.95it/s]\n",
      "2/30 [Train]:   0%|          | 0/273 [00:00<?, ?it/s]"
     ]
    },
    {
     "name": "stdout",
     "output_type": "stream",
     "text": [
      "train loss: 0.4662 | val loss: 0.5813\n"
     ]
    },
    {
     "name": "stderr",
     "output_type": "stream",
     "text": [
      "2/30 [Train]: 100%|██████████| 273/273 [01:07<00:00,  4.05it/s]\n",
      "2/30 [Val]  : 100%|██████████| 35/35 [00:06<00:00,  5.35it/s]\n",
      "3/30 [Train]:   0%|          | 0/273 [00:00<?, ?it/s]"
     ]
    },
    {
     "name": "stdout",
     "output_type": "stream",
     "text": [
      "train loss: 0.3929 | val loss: 0.5714\n"
     ]
    },
    {
     "name": "stderr",
     "output_type": "stream",
     "text": [
      "3/30 [Train]: 100%|██████████| 273/273 [01:19<00:00,  3.45it/s]\n",
      "3/30 [Val]  : 100%|██████████| 35/35 [00:07<00:00,  4.69it/s]\n",
      "4/30 [Train]:   0%|          | 0/273 [00:00<?, ?it/s]"
     ]
    },
    {
     "name": "stdout",
     "output_type": "stream",
     "text": [
      "train loss: 0.3659 | val loss: 0.4197\n"
     ]
    },
    {
     "name": "stderr",
     "output_type": "stream",
     "text": [
      "4/30 [Train]: 100%|██████████| 273/273 [01:26<00:00,  3.16it/s]\n",
      "4/30 [Val]  : 100%|██████████| 35/35 [00:08<00:00,  4.07it/s]\n",
      "5/30 [Train]:   0%|          | 0/273 [00:00<?, ?it/s]"
     ]
    },
    {
     "name": "stdout",
     "output_type": "stream",
     "text": [
      "train loss: 0.3414 | val loss: 0.4616\n"
     ]
    },
    {
     "name": "stderr",
     "output_type": "stream",
     "text": [
      "5/30 [Train]: 100%|██████████| 273/273 [01:34<00:00,  2.90it/s]\n",
      "5/30 [Val]  : 100%|██████████| 35/35 [00:08<00:00,  4.31it/s]\n",
      "6/30 [Train]:   0%|          | 0/273 [00:00<?, ?it/s]"
     ]
    },
    {
     "name": "stdout",
     "output_type": "stream",
     "text": [
      "train loss: 0.3260 | val loss: 0.3961\n"
     ]
    },
    {
     "name": "stderr",
     "output_type": "stream",
     "text": [
      "6/30 [Train]: 100%|██████████| 273/273 [01:27<00:00,  3.13it/s]\n",
      "6/30 [Val]  : 100%|██████████| 35/35 [00:07<00:00,  4.50it/s]\n",
      "7/30 [Train]:   0%|          | 0/273 [00:00<?, ?it/s]"
     ]
    },
    {
     "name": "stdout",
     "output_type": "stream",
     "text": [
      "train loss: 0.3053 | val loss: 0.3877\n"
     ]
    },
    {
     "name": "stderr",
     "output_type": "stream",
     "text": [
      "7/30 [Train]: 100%|██████████| 273/273 [01:22<00:00,  3.31it/s]\n",
      "7/30 [Val]  : 100%|██████████| 35/35 [00:06<00:00,  5.14it/s]\n",
      "8/30 [Train]:   0%|          | 0/273 [00:00<?, ?it/s]"
     ]
    },
    {
     "name": "stdout",
     "output_type": "stream",
     "text": [
      "train loss: 0.2951 | val loss: 0.4052\n"
     ]
    },
    {
     "name": "stderr",
     "output_type": "stream",
     "text": [
      "8/30 [Train]: 100%|██████████| 273/273 [01:22<00:00,  3.32it/s]\n",
      "8/30 [Val]  : 100%|██████████| 35/35 [00:07<00:00,  4.60it/s]\n",
      "9/30 [Train]:   0%|          | 0/273 [00:00<?, ?it/s]"
     ]
    },
    {
     "name": "stdout",
     "output_type": "stream",
     "text": [
      "train loss: 0.2881 | val loss: 0.3608\n"
     ]
    },
    {
     "name": "stderr",
     "output_type": "stream",
     "text": [
      "9/30 [Train]: 100%|██████████| 273/273 [01:22<00:00,  3.31it/s]\n",
      "9/30 [Val]  : 100%|██████████| 35/35 [00:07<00:00,  4.76it/s]\n",
      "10/30 [Train]:   0%|          | 0/273 [00:00<?, ?it/s]"
     ]
    },
    {
     "name": "stdout",
     "output_type": "stream",
     "text": [
      "train loss: 0.2798 | val loss: 0.3772\n"
     ]
    },
    {
     "name": "stderr",
     "output_type": "stream",
     "text": [
      "10/30 [Train]: 100%|██████████| 273/273 [01:21<00:00,  3.35it/s]\n",
      "10/30 [Val]  : 100%|██████████| 35/35 [00:07<00:00,  4.43it/s]\n",
      "11/30 [Train]:   0%|          | 0/273 [00:00<?, ?it/s]"
     ]
    },
    {
     "name": "stdout",
     "output_type": "stream",
     "text": [
      "train loss: 0.2760 | val loss: 0.3575\n"
     ]
    },
    {
     "name": "stderr",
     "output_type": "stream",
     "text": [
      "11/30 [Train]: 100%|██████████| 273/273 [01:22<00:00,  3.32it/s]\n",
      "11/30 [Val]  : 100%|██████████| 35/35 [00:07<00:00,  4.64it/s]\n",
      "12/30 [Train]:   0%|          | 0/273 [00:00<?, ?it/s]"
     ]
    },
    {
     "name": "stdout",
     "output_type": "stream",
     "text": [
      "train loss: 0.2701 | val loss: 0.3646\n"
     ]
    },
    {
     "name": "stderr",
     "output_type": "stream",
     "text": [
      "12/30 [Train]: 100%|██████████| 273/273 [01:21<00:00,  3.35it/s]\n",
      "12/30 [Val]  : 100%|██████████| 35/35 [00:07<00:00,  4.96it/s]\n",
      "13/30 [Train]:   0%|          | 0/273 [00:00<?, ?it/s]"
     ]
    },
    {
     "name": "stdout",
     "output_type": "stream",
     "text": [
      "train loss: 0.2647 | val loss: 0.3408\n"
     ]
    },
    {
     "name": "stderr",
     "output_type": "stream",
     "text": [
      "13/30 [Train]: 100%|██████████| 273/273 [01:21<00:00,  3.36it/s]\n",
      "13/30 [Val]  : 100%|██████████| 35/35 [00:07<00:00,  4.63it/s]\n",
      "14/30 [Train]:   0%|          | 0/273 [00:00<?, ?it/s]"
     ]
    },
    {
     "name": "stdout",
     "output_type": "stream",
     "text": [
      "train loss: 0.2629 | val loss: 0.3510\n"
     ]
    },
    {
     "name": "stderr",
     "output_type": "stream",
     "text": [
      "14/30 [Train]: 100%|██████████| 273/273 [01:20<00:00,  3.39it/s]\n",
      "14/30 [Val]  : 100%|██████████| 35/35 [00:07<00:00,  4.56it/s]\n",
      "15/30 [Train]:   0%|          | 0/273 [00:00<?, ?it/s]"
     ]
    },
    {
     "name": "stdout",
     "output_type": "stream",
     "text": [
      "train loss: 0.2566 | val loss: 0.3470\n"
     ]
    },
    {
     "name": "stderr",
     "output_type": "stream",
     "text": [
      "15/30 [Train]: 100%|██████████| 273/273 [01:21<00:00,  3.34it/s]\n",
      "15/30 [Val]  : 100%|██████████| 35/35 [00:07<00:00,  4.93it/s]\n",
      "16/30 [Train]:   0%|          | 0/273 [00:00<?, ?it/s]"
     ]
    },
    {
     "name": "stdout",
     "output_type": "stream",
     "text": [
      "train loss: 0.2541 | val loss: 0.3452\n"
     ]
    },
    {
     "name": "stderr",
     "output_type": "stream",
     "text": [
      "16/30 [Train]: 100%|██████████| 273/273 [01:21<00:00,  3.36it/s]\n",
      "16/30 [Val]  : 100%|██████████| 35/35 [00:06<00:00,  5.18it/s]\n",
      "17/30 [Train]:   0%|          | 0/273 [00:00<?, ?it/s]"
     ]
    },
    {
     "name": "stdout",
     "output_type": "stream",
     "text": [
      "train loss: 0.2509 | val loss: 0.3539\n"
     ]
    },
    {
     "name": "stderr",
     "output_type": "stream",
     "text": [
      "17/30 [Train]: 100%|██████████| 273/273 [01:22<00:00,  3.31it/s]\n",
      "17/30 [Val]  : 100%|██████████| 35/35 [00:07<00:00,  4.40it/s]\n",
      "18/30 [Train]:   0%|          | 0/273 [00:00<?, ?it/s]"
     ]
    },
    {
     "name": "stdout",
     "output_type": "stream",
     "text": [
      "train loss: 0.2488 | val loss: 0.3682\n"
     ]
    },
    {
     "name": "stderr",
     "output_type": "stream",
     "text": [
      "18/30 [Train]: 100%|██████████| 273/273 [01:20<00:00,  3.38it/s]\n",
      "18/30 [Val]  : 100%|██████████| 35/35 [00:07<00:00,  4.75it/s]\n",
      "19/30 [Train]:   0%|          | 0/273 [00:00<?, ?it/s]"
     ]
    },
    {
     "name": "stdout",
     "output_type": "stream",
     "text": [
      "train loss: 0.2445 | val loss: 0.3785\n"
     ]
    },
    {
     "name": "stderr",
     "output_type": "stream",
     "text": [
      "19/30 [Train]: 100%|██████████| 273/273 [01:25<00:00,  3.20it/s]\n",
      "19/30 [Val]  : 100%|██████████| 35/35 [00:07<00:00,  4.90it/s]\n",
      "20/30 [Train]:   0%|          | 0/273 [00:00<?, ?it/s]"
     ]
    },
    {
     "name": "stdout",
     "output_type": "stream",
     "text": [
      "train loss: 0.2439 | val loss: 0.3435\n"
     ]
    },
    {
     "name": "stderr",
     "output_type": "stream",
     "text": [
      "20/30 [Train]: 100%|██████████| 273/273 [01:23<00:00,  3.28it/s]\n",
      "20/30 [Val]  : 100%|██████████| 35/35 [00:07<00:00,  4.92it/s]\n",
      "21/30 [Train]:   0%|          | 0/273 [00:00<?, ?it/s]"
     ]
    },
    {
     "name": "stdout",
     "output_type": "stream",
     "text": [
      "train loss: 0.2375 | val loss: 0.3727\n"
     ]
    },
    {
     "name": "stderr",
     "output_type": "stream",
     "text": [
      "21/30 [Train]: 100%|██████████| 273/273 [01:24<00:00,  3.23it/s]\n",
      "21/30 [Val]  : 100%|██████████| 35/35 [00:07<00:00,  4.89it/s]\n",
      "22/30 [Train]:   0%|          | 0/273 [00:00<?, ?it/s]"
     ]
    },
    {
     "name": "stdout",
     "output_type": "stream",
     "text": [
      "train loss: 0.2367 | val loss: 0.3620\n"
     ]
    },
    {
     "name": "stderr",
     "output_type": "stream",
     "text": [
      "22/30 [Train]: 100%|██████████| 273/273 [01:22<00:00,  3.31it/s]\n",
      "22/30 [Val]  : 100%|██████████| 35/35 [00:06<00:00,  5.01it/s]\n",
      "23/30 [Train]:   0%|          | 0/273 [00:00<?, ?it/s]"
     ]
    },
    {
     "name": "stdout",
     "output_type": "stream",
     "text": [
      "train loss: 0.2343 | val loss: 0.4470\n"
     ]
    },
    {
     "name": "stderr",
     "output_type": "stream",
     "text": [
      "23/30 [Train]: 100%|██████████| 273/273 [01:23<00:00,  3.28it/s]\n",
      "23/30 [Val]  : 100%|██████████| 35/35 [00:07<00:00,  4.96it/s]\n",
      "24/30 [Train]:   0%|          | 0/273 [00:00<?, ?it/s]"
     ]
    },
    {
     "name": "stdout",
     "output_type": "stream",
     "text": [
      "train loss: 0.2308 | val loss: 0.3887\n"
     ]
    },
    {
     "name": "stderr",
     "output_type": "stream",
     "text": [
      "24/30 [Train]: 100%|██████████| 273/273 [01:22<00:00,  3.32it/s]\n",
      "24/30 [Val]  : 100%|██████████| 35/35 [00:07<00:00,  4.97it/s]\n",
      "25/30 [Train]:   0%|          | 0/273 [00:00<?, ?it/s]"
     ]
    },
    {
     "name": "stdout",
     "output_type": "stream",
     "text": [
      "train loss: 0.2292 | val loss: 0.3328\n"
     ]
    },
    {
     "name": "stderr",
     "output_type": "stream",
     "text": [
      "25/30 [Train]: 100%|██████████| 273/273 [01:23<00:00,  3.25it/s]\n",
      "25/30 [Val]  : 100%|██████████| 35/35 [00:07<00:00,  4.83it/s]\n",
      "26/30 [Train]:   0%|          | 0/273 [00:00<?, ?it/s]"
     ]
    },
    {
     "name": "stdout",
     "output_type": "stream",
     "text": [
      "train loss: 0.2271 | val loss: 0.3588\n"
     ]
    },
    {
     "name": "stderr",
     "output_type": "stream",
     "text": [
      "26/30 [Train]: 100%|██████████| 273/273 [01:24<00:00,  3.25it/s]\n",
      "26/30 [Val]  : 100%|██████████| 35/35 [00:07<00:00,  4.64it/s]\n",
      "27/30 [Train]:   0%|          | 0/273 [00:00<?, ?it/s]"
     ]
    },
    {
     "name": "stdout",
     "output_type": "stream",
     "text": [
      "train loss: 0.2239 | val loss: 0.3940\n"
     ]
    },
    {
     "name": "stderr",
     "output_type": "stream",
     "text": [
      "27/30 [Train]: 100%|██████████| 273/273 [01:27<00:00,  3.11it/s]\n",
      "27/30 [Val]  : 100%|██████████| 35/35 [00:08<00:00,  4.20it/s]\n",
      "28/30 [Train]:   0%|          | 0/273 [00:00<?, ?it/s]"
     ]
    },
    {
     "name": "stdout",
     "output_type": "stream",
     "text": [
      "train loss: 0.2218 | val loss: 0.3915\n"
     ]
    },
    {
     "name": "stderr",
     "output_type": "stream",
     "text": [
      "28/30 [Train]: 100%|██████████| 273/273 [01:24<00:00,  3.23it/s]\n",
      "28/30 [Val]  : 100%|██████████| 35/35 [00:07<00:00,  4.70it/s]\n",
      "29/30 [Train]:   0%|          | 0/273 [00:00<?, ?it/s]"
     ]
    },
    {
     "name": "stdout",
     "output_type": "stream",
     "text": [
      "train loss: 0.2178 | val loss: 0.4042\n"
     ]
    },
    {
     "name": "stderr",
     "output_type": "stream",
     "text": [
      "29/30 [Train]: 100%|██████████| 273/273 [01:23<00:00,  3.28it/s]\n",
      "29/30 [Val]  : 100%|██████████| 35/35 [00:07<00:00,  4.91it/s]\n",
      "30/30 [Train]:   0%|          | 0/273 [00:00<?, ?it/s]"
     ]
    },
    {
     "name": "stdout",
     "output_type": "stream",
     "text": [
      "train loss: 0.2162 | val loss: 0.4081\n"
     ]
    },
    {
     "name": "stderr",
     "output_type": "stream",
     "text": [
      "30/30 [Train]: 100%|██████████| 273/273 [01:23<00:00,  3.28it/s]\n",
      "30/30 [Val]  : 100%|██████████| 35/35 [00:07<00:00,  4.90it/s]\n"
     ]
    },
    {
     "name": "stdout",
     "output_type": "stream",
     "text": [
      "train loss: 0.2106 | val loss: 0.4356\n"
     ]
    }
   ],
   "source": [
    "# training loop\n",
    "\n",
    "train_losses = []\n",
    "val_losses = []\n",
    "\n",
    "for epoch in range(num_epochs):\n",
    "\t# training\n",
    "\tmodel.train()\n",
    "\ttrain_loss = 0.0\n",
    "\n",
    "\tloader_train_tqdm = tqdm(loader_train, desc=f'{epoch+1}/{num_epochs} [Train]', leave=True)\n",
    "\n",
    "\tfor batch in loader_train_tqdm:\n",
    "\t\tinputs, labels = [x.to(device) for x in batch]\n",
    "\t\tinputs = loader_train.dataset.preprocessor.normalize(inputs)\n",
    "\n",
    "\t\toptimizer.zero_grad()\n",
    "\t\toutputs = model(inputs)\n",
    "\t\tloss = criterion(outputs, labels)\n",
    "\t\twith torch.autograd.set_detect_anomaly(True):\n",
    "\t\t\tloss.backward()\n",
    "\t\toptimizer.step()\n",
    "\n",
    "\t\ttrain_loss += loss.item()\n",
    "\n",
    "\tavg_train_loss = train_loss / len(loader_train)\n",
    "\ttrain_losses.append(avg_train_loss)\n",
    "\n",
    "\t# validation\n",
    "\tmodel.eval()\n",
    "\tval_loss = 0.0\n",
    "\tloader_val_tqdm = tqdm(loader_val, desc=f'{epoch+1}/{num_epochs} [Val]  ', leave=True)\n",
    "\twith torch.no_grad():\n",
    "\t\tfor batch in loader_val_tqdm:\n",
    "\t\t\tinputs, labels = [x.to(device) for x in batch]\n",
    "\t\t\tinputs = loader_train.dataset.preprocessor.normalize(inputs)\n",
    "\n",
    "\t\t\toutputs = model(inputs)\n",
    "\t\t\tloss = criterion(outputs, labels)\n",
    "\t\t\tval_loss += loss.item()\n",
    "\n",
    "\tavg_val_loss = val_loss / len(loader_val)\n",
    "\tval_losses.append(avg_val_loss)\n",
    "\n",
    "\ttqdm.write(f\"train loss: {avg_train_loss:.4f} | val loss: {avg_val_loss:.4f}\")"
   ]
  },
  {
   "cell_type": "code",
   "execution_count": 76,
   "id": "e47ffe97",
   "metadata": {},
   "outputs": [
    {
     "data": {
      "image/png": "[encoded data removed]",
      "text/plain": [
       "<Figure size 640x480 with 1 Axes>"
      ]
     },
     "metadata": {},
     "output_type": "display_data"
    }
   ],
   "source": [
    "# train_losses = [0.4578, 0.3865, 0.3588, 0.3400, 0.3188, 0.3051, 0.2960, 0.2841, 0.2768, 0.2710]\n",
    "# val_losses = [0.5643, 0.7357, 0.7207, 0.4875, 0.6307, 0.4596, 0.4450, 0.5175, 0.4177, 0.4944]\n",
    "import matplotlib.pyplot as plt\n",
    "\n",
    "epochs = range(num_epochs)\n",
    "\n",
    "plt.figure()\n",
    "plt.plot(epochs, train_losses, label='train loss', marker='o')\n",
    "plt.plot(epochs, val_losses, label='val loss', marker='x')\n",
    "plt.xlabel('epoch')\n",
    "plt.ylabel('loss')\n",
    "plt.ylim(0, 1)\n",
    "plt.legend()\n",
    "plt.grid(True)\n",
    "plt.tight_layout()\n",
    "plt.show()"
   ]
  },
  {
   "cell_type": "code",
   "execution_count": 77,
   "id": "13108cdb",
   "metadata": {},
   "outputs": [],
   "source": [
    "# create output folder\n",
    "experiment_folder = os.path.join(output_folder, experiment_id)\n",
    "helper.check_create_folder(experiment_folder)\n",
    "\n",
    "# save model weights\n",
    "torch.save(model.state_dict(), os.path.join(experiment_folder, 'weights.pth'))\n",
    "\n",
    "# save training result\n",
    "training_result = pd.DataFrame({\n",
    "\t'train_loss':train_losses,\n",
    "\t'val_loss':val_losses\n",
    "})\n",
    "training_result.to_csv(os.path.join(experiment_folder, 'training_result.csv'), index=False)"
   ]
  }
 ],
 "metadata": {
  "kernelspec": {
   "display_name": "ecg_env",
   "language": "python",
   "name": "python3"
  },
  "language_info": {
   "codemirror_mode": {
    "name": "ipython",
    "version": 3
   },
   "file_extension": ".py",
   "mimetype": "text/x-python",
   "name": "python",
   "nbconvert_exporter": "python",
   "pygments_lexer": "ipython3",
   "version": "3.8.6"
  }
 },
 "nbformat": 4,
 "nbformat_minor": 5
}
